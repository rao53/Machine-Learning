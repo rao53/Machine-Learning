{
 "cells": [
  {
   "cell_type": "code",
   "execution_count": 38,
   "metadata": {
    "id": "ImgiB9h7shh5"
   },
   "outputs": [],
   "source": [
    "import numpy as np\n",
    "import matplotlib.pyplot as plt\n",
    "from sklearn.linear_model import LinearRegression\n",
    "import pandas as pd\n",
    "import math\n",
    "\n",
    "from sklearn.metrics import mean_squared_error, r2_score"
   ]
  },
  {
   "cell_type": "markdown",
   "metadata": {
    "id": "LGEN80Fp9iiP"
   },
   "source": [
    "# **1**\n",
    "**Confirmation of co-efficient and intercept term using sklearn.linear_model LinearRegression function**\n",
    "\n"
   ]
  },
  {
   "cell_type": "code",
   "execution_count": 25,
   "metadata": {
    "colab": {
     "base_uri": "https://localhost:8080/"
    },
    "id": "j1L6dRWG965N",
    "outputId": "6aafeedc-39f0-465d-85f8-f18fb3b80790"
   },
   "outputs": [
    {
     "name": "stdout",
     "output_type": "stream",
     "text": [
      "Coefficients: \n",
      " [[-0.41267868]]\n",
      "Intercept: \n",
      " [1.02858919]\n"
     ]
    },
    {
     "data": {
      "text/plain": [
       "<matplotlib.legend.Legend at 0x7fd3169f46a0>"
      ]
     },
     "execution_count": 25,
     "metadata": {},
     "output_type": "execute_result"
    },
    {
     "data": {
      "image/png": "[encoded data removed]",
      "text/plain": [
       "<Figure size 432x288 with 1 Axes>"
      ]
     },
     "metadata": {
      "needs_background": "light"
     },
     "output_type": "display_data"
    }
   ],
   "source": [
    "# Train the model \n",
    "Xmat = [[-2],[-5],[-3],[0],[-8],[-2],[1],[5],[-1],[6]]\n",
    "Ymat = [[1],[-4],[1],[3],[11],[5],[0],[-1],[-3],[1]]\n",
    "\n",
    "reg = LinearRegression().fit(Xmat, Ymat)\n",
    "\n",
    "# The coefficients and intercept\n",
    "print('Coefficients: \\n', reg.coef_)\n",
    "print('Intercept: \\n', reg.intercept_)\n",
    "\n",
    "X1 = np.arange(-5,5)\n",
    "\n",
    "equ0 = (X1 + 0 - 2) ** 2\n",
    "equ1 = (X1 + 1 - 2) ** 2\n",
    "equ2 = (X1 + 2 - 2) ** 2\n",
    "\n",
    "plt.xlim(-3,4)\n",
    "plt.ylim(0,5)\n",
    "plt.plot(X1,equ0,label='X0') \n",
    "plt.plot(X1,equ1,label='X1')        \n",
    "plt.plot(X1,equ2,label='X2')  \n",
    "plt.xlabel('X1')\n",
    "plt.ylabel('J')\n",
    "plt.title(\"Plot of x1 vs J\")\n",
    "plt.legend()"
   ]
  },
  {
   "cell_type": "markdown",
   "metadata": {
    "id": "R0iaifzlBiJX"
   },
   "source": [
    "# **2**"
   ]
  },
  {
   "cell_type": "code",
   "execution_count": 41,
   "metadata": {
    "id": "VH01gU0tS63k",
    "scrolled": true
   },
   "outputs": [
    {
     "name": "stdout",
     "output_type": "stream",
     "text": [
      "final model: y = 3057.9544 + 1203.7949 x1 + -251.2734 x2\n",
      "Final RMSE:  480.95889092171547\n",
      "MSE:  [231321.45475665]\n",
      "Coefficients: \n",
      " [[   0.         1203.7948535  -251.27344482]]\n",
      "Intercept: \n",
      " [3057.95443807]\n",
      "Mean squared error: 231321.45\n"
     ]
    }
   ],
   "source": [
    "def closedLinReg(filename):\n",
    "    # Read in data, ignore first row (header info) and first column (index info)\n",
    "    df = pd.read_csv(filename, header=None, skiprows=1)\n",
    "    df = df.iloc[: , 1:] #Removes first column\n",
    "\n",
    "    numRows = len(df)\n",
    "\n",
    "    # Randomize the data (Gives the same data everytime)\n",
    "    df = df.sample(n = numRows, random_state=0)\n",
    "\n",
    "    # Select 2/3 of the data for training and the rest for testing\n",
    "    train = df.sample(frac=0.667, random_state=0)\n",
    "    test = df.drop(train.index)\n",
    "    \n",
    "    # Standadize the data... Make sure you retain the mean and standard deviation\n",
    "    mean = np.mean(df)\n",
    "    newMean = mean.iloc[:-1]\n",
    "    std = np.std(df, axis=0, ddof=1)\n",
    "    newStd = std.iloc[:-1]\n",
    "\n",
    "    # Compute the solution (thetas)\n",
    "    trainYVec = train.iloc[: , -1:] #Y-vector train\n",
    "    trainXVec = train.iloc[: , :-1] #X-vector train\n",
    "    testXVec = test.iloc[: , :-1] #X-vector test\n",
    "    testYVec = test.iloc[: , -1:] #Y-vector test\n",
    "    testYVec = np.array(testYVec)\n",
    "    \n",
    "    #Standadized train and test X vector with bias\n",
    "    sTrainXVec = (trainXVec - newMean)/newStd    \n",
    "    sTestXVec = (testXVec - newMean)/newStd\n",
    "    sTrainXVec.insert(0,'Bias',1)\n",
    "    sTestXVec.insert(0,'Bias',1)\n",
    "\n",
    "    thetas = np.linalg.inv(sTrainXVec.T @ sTrainXVec) @ sTrainXVec.T @ trainYVec\n",
    "    theta0 = thetas.iloc[0,0]   \n",
    "    theta1 = thetas.iloc[1,0]    \n",
    "    theta2 = thetas.iloc[2,0]\n",
    "\n",
    "    #Change to array\n",
    "    sTrainXVec = np.array(sTrainXVec)  \n",
    "    sTestXVec = np.array(sTestXVec)\n",
    "    thetas = np.array(thetas)\n",
    "    \n",
    "    \n",
    "    # Apply solution to the testing sample (Find length of fishes)\n",
    "#     y = theta0 + (theta1 * x1) + (theta2 * x2)\n",
    "    print(\"final model: y = %.4f + %.4f x1 + %.4f x2\" %(theta0, theta1, theta2))\n",
    "    yHat = sTestXVec @ thetas\n",
    "\n",
    "    \n",
    "    # Compute RMSE\n",
    "    MSE = 0\n",
    "    for i in range(len(yHat)):\n",
    "        temp = testYVec[i] - yHat[i]\n",
    "        MSE += temp ** 2\n",
    "    MSE = MSE/len(yHat)\n",
    "    RMSE = math.sqrt(MSE)\n",
    "    print(\"Final RMSE: \" ,RMSE)\n",
    "    print(\"MSE: \" ,MSE)\n",
    "    \n",
    "#     reg = LinearRegression().fit(sTrainXVec, trainYVec)\n",
    "\n",
    "#     # The coefficients and intercept\n",
    "#     print('Coefficients: \\n', reg.coef_)\n",
    "#     print('Intercept: \\n', reg.intercept_)\n",
    "#     print('Mean squared error: %.2f' % mean_squared_error(testYVec, yHat))\n",
    "\n",
    "\n",
    "closedLinReg(\"x06Simple.csv\")\n",
    "\n",
    "\n"
   ]
  },
  {
   "cell_type": "markdown",
   "metadata": {},
   "source": [
    "\n",
    "# **3**"
   ]
  },
  {
   "cell_type": "code",
   "execution_count": 21,
   "metadata": {},
   "outputs": [
    {
     "name": "stdout",
     "output_type": "stream",
     "text": [
      "Final RMSE:  349.11017950868325\n"
     ]
    }
   ],
   "source": [
    "def localWeighedLinReg(filename):\n",
    "    # Read in data, ignore first row (header info) and first column (index info)\n",
    "    df = pd.read_csv(filename, header=None, skiprows=1)\n",
    "    df = df.iloc[: , 1:] #Removes first column\n",
    "\n",
    "    numRows = len(df)\n",
    "\n",
    "    # Randomize the data (Gives the same data everytime)\n",
    "    df = df.sample(n = numRows, random_state=0)\n",
    "\n",
    "    # Select 2/3 of the data for training and the rest for testing\n",
    "    train = df.sample(frac=0.667, random_state=0)\n",
    "    test = df.drop(train.index)\n",
    "    \n",
    "    # Standadize the data... Make sure you retain the mean and standard deviation\n",
    "    mean = np.mean(df)\n",
    "    newMean = mean.iloc[:-1]\n",
    "    std = np.std(df, axis=0, ddof=1)\n",
    "    newStd = std.iloc[:-1]\n",
    "\n",
    "    # Compute the solution (thetas)\n",
    "    trainYVec = train.iloc[: , -1:] #Y-vector train\n",
    "    trainXVec = train.iloc[: , :-1] #X-vector train\n",
    "    testXVec = test.iloc[: , :-1] #X-vector test\n",
    "    testYVec = test.iloc[: , -1:] #Y-vector test\n",
    "    testYVec = np.array(testYVec)\n",
    "    \n",
    "    #Standadized train and test X vector with bias\n",
    "    sTrainXVec = (trainXVec - newMean)/newStd    \n",
    "    sTestXVec = (testXVec - newMean)/newStd\n",
    "    sTrainXVec.insert(0,'Bias',1)\n",
    "    sTestXVec.insert(0,'Bias',1)\n",
    "    \n",
    "    #Change to array\n",
    "    sTrainXVec = np.array(sTrainXVec)    \n",
    "    sTestXVec = np.array(sTestXVec)\n",
    "    trainYVec = np.array(trainYVec)\n",
    "    testYVec = np.array(testYVec)\n",
    "    \n",
    "    #for each testing data, find the SE\n",
    "    k = 1 \n",
    "    SE = []\n",
    "    for i in range(len(sTestXVec)):\n",
    "        W = []\n",
    "        for z in range(len(sTrainXVec)):\n",
    "            dist = 0\n",
    "            for j in range(1, len(sTrainXVec[0])):\n",
    "                temp = sTestXVec[i][j] - sTrainXVec[z][j]\n",
    "                dist += abs(temp)\n",
    "            dist = dist/(k ** 2)\n",
    "            newDist = math.exp(-dist)\n",
    "            W.append(newDist)  \n",
    "        W = np.diag(W)\n",
    "        thetas = np.linalg.inv(sTrainXVec.T @ W @ sTrainXVec) @ sTrainXVec.T @ W @ trainYVec\n",
    "        thetas = np.array(thetas)\n",
    "        yHat = sTestXVec[i] @ thetas\n",
    "        tempSE = (testYVec[i]-yHat) ** 2\n",
    "        SE.append(tempSE)\n",
    "    \n",
    "    # Compute RMSE\n",
    "    MSE = 0\n",
    "    for i in range(len(testYVec)):\n",
    "        MSE += SE[i]\n",
    "    MSE = MSE/len(testYVec)\n",
    "    RMSE = math.sqrt(MSE)\n",
    "    print(\"Final RMSE: \" ,RMSE)\n",
    "\n",
    "\n",
    "localWeighedLinReg(\"x06Simple.csv\")"
   ]
  },
  {
   "cell_type": "markdown",
   "metadata": {},
   "source": [
    "# **4**"
   ]
  },
  {
   "cell_type": "code",
   "execution_count": 36,
   "metadata": {},
   "outputs": [
    {
     "name": "stdout",
     "output_type": "stream",
     "text": [
      "<class 'pandas.core.frame.DataFrame'>\n",
      "final model: y = 3057.5362 + 1203.5993 x1 + -251.6697 x2\n",
      "Final RMSE:  481.06922447708223\n",
      "\n",
      "\n"
     ]
    },
    {
     "data": {
      "image/png": "[encoded data removed]",
      "text/plain": [
       "<Figure size 432x288 with 1 Axes>"
      ]
     },
     "metadata": {
      "needs_background": "light"
     },
     "output_type": "display_data"
    }
   ],
   "source": [
    "def gradientDescent(filename, learn_rate, num_iter):\n",
    "    # Read in data, ignore first row (header info) and first column (index info)\n",
    "    df = pd.read_csv(filename, header=None, skiprows=1)\n",
    "    df = df.iloc[: , 1:] #Removes first column\n",
    "\n",
    "    numRows = len(df)\n",
    "\n",
    "    # Randomize the data (Gives the same data everytime)\n",
    "    df = df.sample(n = numRows, random_state=0)\n",
    "\n",
    "    # Select 2/3 of the data for training and the rest for testing\n",
    "    train = df.sample(frac=0.667, random_state=0)\n",
    "    test = df.drop(train.index)\n",
    "    \n",
    "    # Standadize the data... Make sure you retain the mean and standard deviation\n",
    "    mean = np.mean(df)\n",
    "    print(type(df))\n",
    "#     print(mean)\n",
    "    newMean = mean.iloc[:-1]\n",
    "    std = np.std(df, axis=0, ddof=1)\n",
    "    newStd = std.iloc[:-1]\n",
    "\n",
    "    # Compute the solution (thetas)\n",
    "    trainYVec = train.iloc[: , -1:] #Y-vector train\n",
    "    trainXVec = train.iloc[: , :-1] #X-vector train\n",
    "    testXVec = test.iloc[: , :-1] #X-vector test\n",
    "    testYVec = test.iloc[: , -1:] #Y-vector test\n",
    "    testYVec = np.array(testYVec)\n",
    "    \n",
    "    #Standadized train and test X vector with bias\n",
    "    sTrainXVec = (trainXVec - newMean)/newStd    \n",
    "    sTestXVec = (testXVec - newMean)/newStd\n",
    "    sTrainXVec.insert(0,'Bias',1)\n",
    "    sTestXVec.insert(0,'Bias',1)\n",
    "    \n",
    "    #Change to array\n",
    "    sTrainXVec = np.array(sTrainXVec)    \n",
    "    sTestXVec = np.array(sTestXVec)\n",
    "    trainYVec = np.array(trainYVec)\n",
    "    testYVec = np.array(testYVec)\n",
    "    \n",
    "    #Initialize the parameters of theta using random values in the range [-1,1]\n",
    "    theta = np.random.uniform(low=-1, high=1,size=len(sTrainXVec[0])).reshape((len(sTrainXVec[0]),1))\n",
    "#     theta = [ [0.821656240], [0.96298259], [-0.55737087]]\n",
    "    RMSETrainAr = []\n",
    "    RMSETestAr = []\n",
    "    finalNumIter = 0\n",
    "\n",
    "#     terminate when abs val in percent chage in RMSE on the training data is < 2^-23 or num_iter iterations\n",
    "    for i in range(num_iter):\n",
    "        finalNumIter += 1\n",
    "        rhs = (sTrainXVec.T @ ((sTrainXVec @ theta) - trainYVec))/len(sTrainXVec)\n",
    "        theta = theta - (learn_rate * rhs)\n",
    "        yHat = sTrainXVec @ theta\n",
    "        yHatTest = sTestXVec @ theta\n",
    "        tempSE = (trainYVec - yHat) ** 2\n",
    "        tempSETest = (testYVec- yHatTest) ** 2\n",
    "        MSE = 0\n",
    "        MSETest = 0\n",
    "        \n",
    "        #for test\n",
    "        for j in range(len(tempSETest)):\n",
    "            MSETest += tempSETest[j]\n",
    "        MSETest = MSETest/len(tempSETest)\n",
    "        RMSETest = math.sqrt(MSETest)\n",
    "        \n",
    "        #for train\n",
    "        for k in range(len(tempSE)):\n",
    "            MSE += tempSE[k]\n",
    "        MSE = MSE/len(tempSE)\n",
    "        RMSETrain = math.sqrt(MSE)\n",
    "        \n",
    "        \n",
    "        RMSETrainAr.append(RMSETrain)\n",
    "        RMSETestAr.append(RMSETest)\n",
    "        #if need to stop for RMSE train percent change less than 2^-23\n",
    "        if i < 2:\n",
    "            #For empty RMSETrainAr\n",
    "            continue\n",
    "        else:\n",
    "            trainLen = len(RMSETrainAr)\n",
    "            diff = RMSETrainAr[trainLen-1] - RMSETrainAr[trainLen-2] #new - old\n",
    "            incr = abs((diff/RMSETrainAr[trainLen-2]) * 100)\n",
    "            compr = 2 ** -23\n",
    "            if incr < compr:\n",
    "                break\n",
    "  \n",
    "    #Final thetas\n",
    "    print(\"final model: y = %.4f + %.4f x1 + %.4f x2\" %(theta[0], theta[1], theta[2]))\n",
    "    \n",
    "    #RMSE of the testing data\n",
    "    print(\"Final RMSE: \" ,RMSETestAr[len(RMSETestAr)-1])\n",
    "    print(\"\\n\")\n",
    "\n",
    "    # create some x data and some integers for the y axis\n",
    "    y = np.arange(finalNumIter)\n",
    "\n",
    "    # plot the data\n",
    "    plt.plot(y,RMSETrainAr,label='RMSE Train')        \n",
    "    plt.plot(y,RMSETestAr, label=\"RMSE Test\")    \n",
    "    plt.xlabel('iteration')\n",
    "    plt.ylabel('RMSE')\n",
    "    plt.title(\"Plot of training and testing RMSE\")\n",
    "    plt.legend()\n",
    "gradientDescent(\"x06Simple.csv\", 0.01, 1000)"
   ]
  },
  {
   "cell_type": "code",
   "execution_count": null,
   "metadata": {},
   "outputs": [],
   "source": []
  }
 ],
 "metadata": {
  "colab": {
   "collapsed_sections": [],
   "name": "HW1.ipynb",
   "provenance": []
  },
  "kernelspec": {
   "display_name": "Python 3",
   "language": "python",
   "name": "python3"
  },
  "language_info": {
   "codemirror_mode": {
    "name": "ipython",
    "version": 3
   },
   "file_extension": ".py",
   "mimetype": "text/x-python",
   "name": "python",
   "nbconvert_exporter": "python",
   "pygments_lexer": "ipython3",
   "version": "3.8.5"
  }
 },
 "nbformat": 4,
 "nbformat_minor": 1
}
